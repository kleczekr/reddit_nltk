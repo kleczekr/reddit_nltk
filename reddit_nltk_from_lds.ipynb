{
  "nbformat": 4,
  "nbformat_minor": 0,
  "metadata": {
    "colab": {
      "name": "Untitled0.ipynb",
      "provenance": [],
      "authorship_tag": "ABX9TyOgCyxubaYwcPw4XuH1EBIS",
      "include_colab_link": true
    },
    "kernelspec": {
      "name": "python3",
      "display_name": "Python 3"
    }
  },
  "cells": [
    {
      "cell_type": "markdown",
      "metadata": {
        "id": "view-in-github",
        "colab_type": "text"
      },
      "source": [
        "<a href=\"https://colab.research.google.com/github/kleczekr/reddit_nltk/blob/master/reddit_nltk_from_lds.ipynb\" target=\"_parent\"><img src=\"https://colab.research.google.com/assets/colab-badge.svg\" alt=\"Open In Colab\"/></a>"
      ]
    },
    {
      "cell_type": "markdown",
      "metadata": {
        "id": "xTlB8BhgAKCX",
        "colab_type": "text"
      },
      "source": [
        "# Introductory employment of NLTK for Reddit"
      ]
    },
    {
      "cell_type": "markdown",
      "metadata": {
        "id": "HGIAszbtBMGq",
        "colab_type": "text"
      },
      "source": [
        "The code below is entirely adapted from the article: \"Sentiment Analysis on Reddit News Headlines with Python’s Natural Language Toolkit (NLTK)\" from the Learn Data Science platform (read it [here](https://www.learndatasci.com/tutorials/sentiment-analysis-reddit-headlines-pythons-nltk/)). Some examples were altered."
      ]
    },
    {
      "cell_type": "code",
      "metadata": {
        "id": "UkRnZLOG3I_u",
        "colab_type": "code",
        "colab": {
          "base_uri": "https://localhost:8080/",
          "height": 71
        },
        "outputId": "3ea3b9e8-312b-4358-a633-363fdb701f65"
      },
      "source": [
        "from IPython import display\n",
        "import math\n",
        "from pprint import pprint\n",
        "import pandas as pd\n",
        "import numpy as np\n",
        "import nltk\n",
        "import matplotlib.pyplot as plt\n",
        "import seaborn as sns\n",
        "sns.set(style='darkgrid', context='talk', palette='Dark2')"
      ],
      "execution_count": 1,
      "outputs": [
        {
          "output_type": "stream",
          "text": [
            "/usr/local/lib/python3.6/dist-packages/statsmodels/tools/_testing.py:19: FutureWarning: pandas.util.testing is deprecated. Use the functions in the public API at pandas.testing instead.\n",
            "  import pandas.util.testing as tm\n"
          ],
          "name": "stderr"
        }
      ]
    },
    {
      "cell_type": "code",
      "metadata": {
        "id": "qkpqqhX57ycN",
        "colab_type": "code",
        "colab": {
          "base_uri": "https://localhost:8080/",
          "height": 343
        },
        "outputId": "da892837-dbad-4641-aa97-84c1e02ea22d"
      },
      "source": [
        "#!pip install praw"
      ],
      "execution_count": 3,
      "outputs": [
        {
          "output_type": "stream",
          "text": [
            "Collecting praw\n",
            "\u001b[?25l  Downloading https://files.pythonhosted.org/packages/5c/39/17251486951815d4514e4a3f179d4f3e7af5f7b1ce8eaba5a3ea61bc91f2/praw-7.0.0-py3-none-any.whl (143kB)\n",
            "\r\u001b[K     |██▎                             | 10kB 19.9MB/s eta 0:00:01\r\u001b[K     |████▋                           | 20kB 3.1MB/s eta 0:00:01\r\u001b[K     |██████▉                         | 30kB 3.8MB/s eta 0:00:01\r\u001b[K     |█████████▏                      | 40kB 2.9MB/s eta 0:00:01\r\u001b[K     |███████████▍                    | 51kB 3.3MB/s eta 0:00:01\r\u001b[K     |█████████████▊                  | 61kB 3.9MB/s eta 0:00:01\r\u001b[K     |████████████████                | 71kB 4.0MB/s eta 0:00:01\r\u001b[K     |██████████████████▎             | 81kB 3.9MB/s eta 0:00:01\r\u001b[K     |████████████████████▋           | 92kB 4.3MB/s eta 0:00:01\r\u001b[K     |██████████████████████▉         | 102kB 4.5MB/s eta 0:00:01\r\u001b[K     |█████████████████████████▏      | 112kB 4.5MB/s eta 0:00:01\r\u001b[K     |███████████████████████████▍    | 122kB 4.5MB/s eta 0:00:01\r\u001b[K     |█████████████████████████████▊  | 133kB 4.5MB/s eta 0:00:01\r\u001b[K     |████████████████████████████████| 143kB 4.5MB/s eta 0:00:01\r\u001b[K     |████████████████████████████████| 153kB 4.5MB/s \n",
            "\u001b[?25hCollecting prawcore<2.0,>=1.3.0\n",
            "  Downloading https://files.pythonhosted.org/packages/c9/8e/d076cb8f26523f91eef3e75d6cf9143b2f16d67ce7d681a61d0bbc783f49/prawcore-1.3.0-py3-none-any.whl\n",
            "Collecting update-checker>=0.16\n",
            "  Downloading https://files.pythonhosted.org/packages/d6/c3/aaf8a162df8e8f9d321237c7c0e63aff95b42d19f1758f96606e3cabb245/update_checker-0.17-py2.py3-none-any.whl\n",
            "Collecting websocket-client>=0.54.0\n",
            "\u001b[?25l  Downloading https://files.pythonhosted.org/packages/4c/5f/f61b420143ed1c8dc69f9eaec5ff1ac36109d52c80de49d66e0c36c3dfdf/websocket_client-0.57.0-py2.py3-none-any.whl (200kB)\n",
            "\u001b[K     |████████████████████████████████| 204kB 8.8MB/s \n",
            "\u001b[?25hRequirement already satisfied: requests<3.0,>=2.6.0 in /usr/local/lib/python3.6/dist-packages (from prawcore<2.0,>=1.3.0->praw) (2.23.0)\n",
            "Requirement already satisfied: six in /usr/local/lib/python3.6/dist-packages (from websocket-client>=0.54.0->praw) (1.12.0)\n",
            "Requirement already satisfied: chardet<4,>=3.0.2 in /usr/local/lib/python3.6/dist-packages (from requests<3.0,>=2.6.0->prawcore<2.0,>=1.3.0->praw) (3.0.4)\n",
            "Requirement already satisfied: certifi>=2017.4.17 in /usr/local/lib/python3.6/dist-packages (from requests<3.0,>=2.6.0->prawcore<2.0,>=1.3.0->praw) (2020.4.5.1)\n",
            "Requirement already satisfied: urllib3!=1.25.0,!=1.25.1,<1.26,>=1.21.1 in /usr/local/lib/python3.6/dist-packages (from requests<3.0,>=2.6.0->prawcore<2.0,>=1.3.0->praw) (1.24.3)\n",
            "Requirement already satisfied: idna<3,>=2.5 in /usr/local/lib/python3.6/dist-packages (from requests<3.0,>=2.6.0->prawcore<2.0,>=1.3.0->praw) (2.9)\n",
            "Installing collected packages: prawcore, update-checker, websocket-client, praw\n",
            "Successfully installed praw-7.0.0 prawcore-1.3.0 update-checker-0.17 websocket-client-0.57.0\n"
          ],
          "name": "stdout"
        }
      ]
    },
    {
      "cell_type": "code",
      "metadata": {
        "id": "tKdPhBZa4l9k",
        "colab_type": "code",
        "colab": {}
      },
      "source": [
        "import praw\n",
        "\n",
        "reddit = praw.Reddit(client_id='clientid',\n",
        "                     client_secret='clientsecret',\n",
        "                     user_agent='useragent')"
      ],
      "execution_count": 0,
      "outputs": []
    },
    {
      "cell_type": "code",
      "metadata": {
        "id": "QDQ7YLLH7tvk",
        "colab_type": "code",
        "colab": {}
      },
      "source": [
        "headlines = []"
      ],
      "execution_count": 0,
      "outputs": []
    },
    {
      "cell_type": "code",
      "metadata": {
        "id": "vRIU-AIx8Ltw",
        "colab_type": "code",
        "colab": {
          "base_uri": "https://localhost:8080/",
          "height": 34
        },
        "outputId": "a3dce367-39dd-4cfb-86c5-ac2a1370e570"
      },
      "source": [
        "for submission in reddit.subreddit('Showerthoughts').new(limit=None):\n",
        "    headlines.append(submission.title)\n",
        "    display.clear_output()\n",
        "    print(len(headlines))"
      ],
      "execution_count": 13,
      "outputs": [
        {
          "output_type": "stream",
          "text": [
            "998\n"
          ],
          "name": "stdout"
        }
      ]
    },
    {
      "cell_type": "code",
      "metadata": {
        "id": "dn8SvRwa8wfF",
        "colab_type": "code",
        "colab": {}
      },
      "source": [
        "from nltk.tokenize import word_tokenize, RegexpTokenizer"
      ],
      "execution_count": 0,
      "outputs": []
    },
    {
      "cell_type": "code",
      "metadata": {
        "id": "v8kO8vG69FgF",
        "colab_type": "code",
        "colab": {}
      },
      "source": [
        "from nltk.corpus import stopwords\n",
        "nltk.download('stopwords')\n",
        "stop_words = stopwords.words('english')"
      ],
      "execution_count": 0,
      "outputs": []
    },
    {
      "cell_type": "code",
      "metadata": {
        "id": "KXUw8a-d-nXE",
        "colab_type": "code",
        "colab": {}
      },
      "source": [
        "tokenizer = RegexpTokenizer(r'\\w+')"
      ],
      "execution_count": 0,
      "outputs": []
    },
    {
      "cell_type": "code",
      "metadata": {
        "id": "EarTRiGm9PWq",
        "colab_type": "code",
        "colab": {}
      },
      "source": [
        "def process_text(headlines):\n",
        "    tokens = []\n",
        "    for line in headlines:\n",
        "        toks = tokenizer.tokenize(line)\n",
        "        toks = [t.lower() for t in toks if t.lower() not in stop_words]\n",
        "        tokens.extend(toks)\n",
        "    \n",
        "    return tokens"
      ],
      "execution_count": 0,
      "outputs": []
    },
    {
      "cell_type": "code",
      "metadata": {
        "id": "9rS93_Xt9w6f",
        "colab_type": "code",
        "colab": {}
      },
      "source": [
        "tokens = process_text(headlines)\n",
        "freq = nltk.FreqDist(tokens)"
      ],
      "execution_count": 0,
      "outputs": []
    },
    {
      "cell_type": "code",
      "metadata": {
        "id": "RQor-QSc-eAN",
        "colab_type": "code",
        "colab": {
          "base_uri": "https://localhost:8080/",
          "height": 357
        },
        "outputId": "6df46c33-6001-4dd7-93b6-798c8fd6dd9a"
      },
      "source": [
        "freq.most_common(20)"
      ],
      "execution_count": 27,
      "outputs": [
        {
          "output_type": "execute_result",
          "data": {
            "text/plain": [
              "[('people', 103),\n",
              " ('probably', 80),\n",
              " ('life', 53),\n",
              " ('would', 53),\n",
              " ('like', 46),\n",
              " ('one', 45),\n",
              " ('someone', 45),\n",
              " ('could', 42),\n",
              " ('world', 40),\n",
              " ('get', 39),\n",
              " ('never', 37),\n",
              " ('actually', 31),\n",
              " ('something', 30),\n",
              " ('see', 29),\n",
              " ('make', 28),\n",
              " ('person', 27),\n",
              " ('really', 27),\n",
              " ('us', 26),\n",
              " ('things', 26),\n",
              " ('every', 25)]"
            ]
          },
          "metadata": {
            "tags": []
          },
          "execution_count": 27
        }
      ]
    },
    {
      "cell_type": "code",
      "metadata": {
        "id": "MYwQi7A7_Z27",
        "colab_type": "code",
        "colab": {
          "base_uri": "https://localhost:8080/",
          "height": 375
        },
        "outputId": "647c9944-7635-47b6-988f-1a183f67d1f3"
      },
      "source": [
        "y_val = [x[1] for x in freq.most_common()]\n",
        "\n",
        "fig = plt.figure(figsize=(10,5))\n",
        "plt.plot(y_val)\n",
        "\n",
        "plt.xlabel('Words')\n",
        "plt.ylabel('Frequency')\n",
        "plt.title('Word Frequency Distribution')\n",
        "plt.show()"
      ],
      "execution_count": 28,
      "outputs": [
        {
          "output_type": "display_data",
          "data": {
            "image/png": "[encoded data removed]",
            "text/plain": [
              "<Figure size 720x360 with 1 Axes>"
            ]
          },
          "metadata": {
            "tags": [],
            "needs_background": "light"
          }
        }
      ]
    }
  ]
}